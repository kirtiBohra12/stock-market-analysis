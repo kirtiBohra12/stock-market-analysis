{
 "cells": [
  {
   "cell_type": "markdown",
   "id": "f505aae3",
   "metadata": {},
   "source": [
    "# STOCK MARKET ANALYSIS\n",
    "\n",
    "# DATA CLEANING"
   ]
  },
  {
   "cell_type": "code",
   "execution_count": 19,
   "id": "d0ba8712",
   "metadata": {},
   "outputs": [],
   "source": [
    "import numpy as np\n",
    "import pandas as pd\n",
    "import math"
   ]
  },
  {
   "cell_type": "code",
   "execution_count": 20,
   "id": "1c847eab",
   "metadata": {},
   "outputs": [],
   "source": [
    "pd.options.display.max_columns = None\n",
    "pd.options.display.max_rows = None"
   ]
  },
  {
   "cell_type": "markdown",
   "id": "531402c0",
   "metadata": {},
   "source": [
    "# IMPORTING EXCEL FILE IN JUPYTER NOTEBOOK"
   ]
  },
  {
   "cell_type": "code",
   "execution_count": 21,
   "id": "c3618680",
   "metadata": {},
   "outputs": [],
   "source": [
    "path = r'C:\\Users\\Kirti Bohra\\OneDrive\\Desktop\\Stock Market Analysis\\nifty_500.xlsx'\n",
    "stock = pd.read_excel(path)"
   ]
  },
  {
   "cell_type": "code",
   "execution_count": 22,
   "id": "b5d3c7a2",
   "metadata": {},
   "outputs": [
    {
     "data": {
      "text/html": [
       "<div>\n",
       "<style scoped>\n",
       "    .dataframe tbody tr th:only-of-type {\n",
       "        vertical-align: middle;\n",
       "    }\n",
       "\n",
       "    .dataframe tbody tr th {\n",
       "        vertical-align: top;\n",
       "    }\n",
       "\n",
       "    .dataframe thead th {\n",
       "        text-align: right;\n",
       "    }\n",
       "</style>\n",
       "<table border=\"1\" class=\"dataframe\">\n",
       "  <thead>\n",
       "    <tr style=\"text-align: right;\">\n",
       "      <th></th>\n",
       "      <th>Company Name</th>\n",
       "      <th>Symbol</th>\n",
       "      <th>Industry</th>\n",
       "      <th>Series</th>\n",
       "      <th>Open</th>\n",
       "      <th>High</th>\n",
       "      <th>Low</th>\n",
       "      <th>Previous Close</th>\n",
       "      <th>Last Traded Price</th>\n",
       "      <th>Change</th>\n",
       "      <th>Percentage Change</th>\n",
       "      <th>Share Volume</th>\n",
       "      <th>Value (Indian Rupee)</th>\n",
       "      <th>52 Week High</th>\n",
       "      <th>52 Week Low</th>\n",
       "      <th>365 Day Percentage Change</th>\n",
       "      <th>30 Day Percentage Change</th>\n",
       "    </tr>\n",
       "  </thead>\n",
       "  <tbody>\n",
       "    <tr>\n",
       "      <th>0</th>\n",
       "      <td>3M India Ltd.</td>\n",
       "      <td>3MINDIA</td>\n",
       "      <td>Diversified</td>\n",
       "      <td>EQ</td>\n",
       "      <td>21950.00</td>\n",
       "      <td>21999.00</td>\n",
       "      <td>21126.05</td>\n",
       "      <td>21854.05</td>\n",
       "      <td>21575.00</td>\n",
       "      <td>-279.05</td>\n",
       "      <td>-1.28</td>\n",
       "      <td>4159</td>\n",
       "      <td>8.965357e+07</td>\n",
       "      <td>27800.00</td>\n",
       "      <td>17273.00</td>\n",
       "      <td>-10.18</td>\n",
       "      <td>8.22</td>\n",
       "    </tr>\n",
       "    <tr>\n",
       "      <th>1</th>\n",
       "      <td>Aarti Drugs Ltd.</td>\n",
       "      <td>AARTIDRUGS</td>\n",
       "      <td>Healthcare</td>\n",
       "      <td>EQ</td>\n",
       "      <td>400.50</td>\n",
       "      <td>401.80</td>\n",
       "      <td>394.10</td>\n",
       "      <td>403.85</td>\n",
       "      <td>400.00</td>\n",
       "      <td>-3.85</td>\n",
       "      <td>-0.95</td>\n",
       "      <td>31782</td>\n",
       "      <td>1.262731e+07</td>\n",
       "      <td>749.75</td>\n",
       "      <td>378.00</td>\n",
       "      <td>-42.92</td>\n",
       "      <td>-5.10</td>\n",
       "    </tr>\n",
       "    <tr>\n",
       "      <th>2</th>\n",
       "      <td>Aavas Financiers Ltd.</td>\n",
       "      <td>AAVAS</td>\n",
       "      <td>Financial Services</td>\n",
       "      <td>EQ</td>\n",
       "      <td>1997.10</td>\n",
       "      <td>2004.05</td>\n",
       "      <td>1894.50</td>\n",
       "      <td>2015.45</td>\n",
       "      <td>1943.15</td>\n",
       "      <td>-72.3</td>\n",
       "      <td>-3.59</td>\n",
       "      <td>150704</td>\n",
       "      <td>2.907728e+08</td>\n",
       "      <td>3340.00</td>\n",
       "      <td>1815.00</td>\n",
       "      <td>-25.69</td>\n",
       "      <td>-9.39</td>\n",
       "    </tr>\n",
       "    <tr>\n",
       "      <th>3</th>\n",
       "      <td>ABB India Ltd.</td>\n",
       "      <td>ABB</td>\n",
       "      <td>Capital Goods</td>\n",
       "      <td>EQ</td>\n",
       "      <td>2260.35</td>\n",
       "      <td>2311.50</td>\n",
       "      <td>2260.35</td>\n",
       "      <td>2300.90</td>\n",
       "      <td>2280.00</td>\n",
       "      <td>-20.9</td>\n",
       "      <td>-0.91</td>\n",
       "      <td>97053</td>\n",
       "      <td>2.210935e+08</td>\n",
       "      <td>2487.85</td>\n",
       "      <td>1618.05</td>\n",
       "      <td>27.25</td>\n",
       "      <td>-5.21</td>\n",
       "    </tr>\n",
       "    <tr>\n",
       "      <th>4</th>\n",
       "      <td>Abbott India Ltd.</td>\n",
       "      <td>ABBOTINDIA</td>\n",
       "      <td>Healthcare</td>\n",
       "      <td>EQ</td>\n",
       "      <td>18700.40</td>\n",
       "      <td>19200.00</td>\n",
       "      <td>18605.00</td>\n",
       "      <td>18760.40</td>\n",
       "      <td>19199.80</td>\n",
       "      <td>439.4</td>\n",
       "      <td>2.34</td>\n",
       "      <td>12396</td>\n",
       "      <td>2.346770e+08</td>\n",
       "      <td>23934.45</td>\n",
       "      <td>15514.00</td>\n",
       "      <td>11.61</td>\n",
       "      <td>5.84</td>\n",
       "    </tr>\n",
       "    <tr>\n",
       "      <th>5</th>\n",
       "      <td>Aditya Birla Capital Ltd.</td>\n",
       "      <td>ABCAPITAL</td>\n",
       "      <td>Financial Services</td>\n",
       "      <td>EQ</td>\n",
       "      <td>89.00</td>\n",
       "      <td>90.60</td>\n",
       "      <td>88.35</td>\n",
       "      <td>89.40</td>\n",
       "      <td>90.25</td>\n",
       "      <td>0.85</td>\n",
       "      <td>0.95</td>\n",
       "      <td>2401323</td>\n",
       "      <td>2.151826e+08</td>\n",
       "      <td>139.20</td>\n",
       "      <td>85.60</td>\n",
       "      <td>-23.75</td>\n",
       "      <td>-11.57</td>\n",
       "    </tr>\n",
       "    <tr>\n",
       "      <th>6</th>\n",
       "      <td>Aditya Birla Fashion and Retail Ltd.</td>\n",
       "      <td>ABFRL</td>\n",
       "      <td>Consumer Services</td>\n",
       "      <td>EQ</td>\n",
       "      <td>235.60</td>\n",
       "      <td>243.50</td>\n",
       "      <td>235.60</td>\n",
       "      <td>237.05</td>\n",
       "      <td>242.20</td>\n",
       "      <td>5.15</td>\n",
       "      <td>2.17</td>\n",
       "      <td>1014277</td>\n",
       "      <td>2.435482e+08</td>\n",
       "      <td>322.00</td>\n",
       "      <td>189.35</td>\n",
       "      <td>9.87</td>\n",
       "      <td>-12.62</td>\n",
       "    </tr>\n",
       "    <tr>\n",
       "      <th>7</th>\n",
       "      <td>Aditya Birla Sun Life AMC Ltd.</td>\n",
       "      <td>ABSLAMC</td>\n",
       "      <td>Financial Services</td>\n",
       "      <td>EQ</td>\n",
       "      <td>400.05</td>\n",
       "      <td>406.70</td>\n",
       "      <td>400.00</td>\n",
       "      <td>400.05</td>\n",
       "      <td>405.90</td>\n",
       "      <td>5.85</td>\n",
       "      <td>1.46</td>\n",
       "      <td>34489</td>\n",
       "      <td>1.390183e+07</td>\n",
       "      <td>722.90</td>\n",
       "      <td>375.00</td>\n",
       "      <td>NaN</td>\n",
       "      <td>-5.09</td>\n",
       "    </tr>\n",
       "    <tr>\n",
       "      <th>8</th>\n",
       "      <td>ACC Ltd.</td>\n",
       "      <td>ACC</td>\n",
       "      <td>Construction Materials</td>\n",
       "      <td>EQ</td>\n",
       "      <td>2122.95</td>\n",
       "      <td>2174.00</td>\n",
       "      <td>2122.95</td>\n",
       "      <td>2121.95</td>\n",
       "      <td>2171.70</td>\n",
       "      <td>49.75</td>\n",
       "      <td>2.34</td>\n",
       "      <td>284645</td>\n",
       "      <td>6.136206e+08</td>\n",
       "      <td>2589.00</td>\n",
       "      <td>1900.00</td>\n",
       "      <td>5.32</td>\n",
       "      <td>-3.48</td>\n",
       "    </tr>\n",
       "    <tr>\n",
       "      <th>9</th>\n",
       "      <td>Adani Enterprises Ltd.</td>\n",
       "      <td>ADANIENT</td>\n",
       "      <td>Metals &amp; Mining</td>\n",
       "      <td>EQ</td>\n",
       "      <td>2189.90</td>\n",
       "      <td>2242.00</td>\n",
       "      <td>2138.25</td>\n",
       "      <td>2190.90</td>\n",
       "      <td>2229.25</td>\n",
       "      <td>38.35</td>\n",
       "      <td>1.75</td>\n",
       "      <td>2141743</td>\n",
       "      <td>4.695579e+09</td>\n",
       "      <td>2420.95</td>\n",
       "      <td>1332.75</td>\n",
       "      <td>45.33</td>\n",
       "      <td>1.08</td>\n",
       "    </tr>\n",
       "  </tbody>\n",
       "</table>\n",
       "</div>"
      ],
      "text/plain": [
       "                           Company Name      Symbol                Industry  \\\n",
       "0                         3M India Ltd.     3MINDIA             Diversified   \n",
       "1                      Aarti Drugs Ltd.  AARTIDRUGS              Healthcare   \n",
       "2                 Aavas Financiers Ltd.       AAVAS      Financial Services   \n",
       "3                        ABB India Ltd.         ABB           Capital Goods   \n",
       "4                     Abbott India Ltd.  ABBOTINDIA              Healthcare   \n",
       "5             Aditya Birla Capital Ltd.   ABCAPITAL      Financial Services   \n",
       "6  Aditya Birla Fashion and Retail Ltd.       ABFRL       Consumer Services   \n",
       "7        Aditya Birla Sun Life AMC Ltd.     ABSLAMC      Financial Services   \n",
       "8                              ACC Ltd.         ACC  Construction Materials   \n",
       "9                Adani Enterprises Ltd.    ADANIENT         Metals & Mining   \n",
       "\n",
       "  Series      Open      High       Low  Previous Close  Last Traded Price  \\\n",
       "0     EQ  21950.00  21999.00  21126.05        21854.05           21575.00   \n",
       "1     EQ    400.50    401.80    394.10          403.85             400.00   \n",
       "2     EQ   1997.10   2004.05   1894.50         2015.45            1943.15   \n",
       "3     EQ   2260.35   2311.50   2260.35         2300.90            2280.00   \n",
       "4     EQ  18700.40  19200.00  18605.00        18760.40           19199.80   \n",
       "5     EQ     89.00     90.60     88.35           89.40              90.25   \n",
       "6     EQ    235.60    243.50    235.60          237.05             242.20   \n",
       "7     EQ    400.05    406.70    400.00          400.05             405.90   \n",
       "8     EQ   2122.95   2174.00   2122.95         2121.95            2171.70   \n",
       "9     EQ   2189.90   2242.00   2138.25         2190.90            2229.25   \n",
       "\n",
       "   Change Percentage Change  Share Volume  Value (Indian Rupee)  52 Week High  \\\n",
       "0 -279.05             -1.28          4159          8.965357e+07      27800.00   \n",
       "1   -3.85             -0.95         31782          1.262731e+07        749.75   \n",
       "2   -72.3             -3.59        150704          2.907728e+08       3340.00   \n",
       "3   -20.9             -0.91         97053          2.210935e+08       2487.85   \n",
       "4   439.4              2.34         12396          2.346770e+08      23934.45   \n",
       "5    0.85              0.95       2401323          2.151826e+08        139.20   \n",
       "6    5.15              2.17       1014277          2.435482e+08        322.00   \n",
       "7    5.85              1.46         34489          1.390183e+07        722.90   \n",
       "8   49.75              2.34        284645          6.136206e+08       2589.00   \n",
       "9   38.35              1.75       2141743          4.695579e+09       2420.95   \n",
       "\n",
       "   52 Week Low  365 Day Percentage Change  30 Day Percentage Change  \n",
       "0     17273.00                     -10.18                      8.22  \n",
       "1       378.00                     -42.92                     -5.10  \n",
       "2      1815.00                     -25.69                     -9.39  \n",
       "3      1618.05                      27.25                     -5.21  \n",
       "4     15514.00                      11.61                      5.84  \n",
       "5        85.60                     -23.75                    -11.57  \n",
       "6       189.35                       9.87                    -12.62  \n",
       "7       375.00                        NaN                     -5.09  \n",
       "8      1900.00                       5.32                     -3.48  \n",
       "9      1332.75                      45.33                      1.08  "
      ]
     },
     "execution_count": 22,
     "metadata": {},
     "output_type": "execute_result"
    }
   ],
   "source": [
    "stock.head(10)"
   ]
  },
  {
   "cell_type": "code",
   "execution_count": 23,
   "id": "1c1a6a2a",
   "metadata": {},
   "outputs": [
    {
     "data": {
      "text/plain": [
       "(501, 17)"
      ]
     },
     "execution_count": 23,
     "metadata": {},
     "output_type": "execute_result"
    }
   ],
   "source": [
    "stock.shape"
   ]
  },
  {
   "cell_type": "markdown",
   "id": "e01677a8",
   "metadata": {},
   "source": [
    "# CHECKING THE PERCENTAGE OF NULL VALUES"
   ]
  },
  {
   "cell_type": "code",
   "execution_count": 24,
   "id": "24066f9f",
   "metadata": {},
   "outputs": [
    {
     "data": {
      "text/plain": [
       "Company Name                 0.000000\n",
       "Symbol                       0.000000\n",
       "Industry                     0.000000\n",
       "Series                       0.000000\n",
       "Open                         0.000000\n",
       "High                         0.000000\n",
       "Low                          0.000000\n",
       "Previous Close               0.000000\n",
       "Last Traded Price            0.000000\n",
       "Change                       0.000000\n",
       "Percentage Change            0.000000\n",
       "Share Volume                 0.000000\n",
       "Value (Indian Rupee)         0.000000\n",
       "52 Week High                 0.000000\n",
       "52 Week Low                  0.000000\n",
       "365 Day Percentage Change    8.782435\n",
       "30 Day Percentage Change     0.598802\n",
       "dtype: float64"
      ]
     },
     "execution_count": 24,
     "metadata": {},
     "output_type": "execute_result"
    }
   ],
   "source": [
    "stock.isnull().sum()/501*100"
   ]
  },
  {
   "cell_type": "markdown",
   "id": "4c1f26cc",
   "metadata": {},
   "source": [
    "# FILLING NULL VALUES IN \"365 Day Percentage Change\" WITH ITS MEDIAN"
   ]
  },
  {
   "cell_type": "code",
   "execution_count": 25,
   "id": "6de2e349",
   "metadata": {},
   "outputs": [
    {
     "data": {
      "text/plain": [
       "-11.06"
      ]
     },
     "execution_count": 25,
     "metadata": {},
     "output_type": "execute_result"
    }
   ],
   "source": [
    "stock['365 Day Percentage Change'].median()"
   ]
  },
  {
   "cell_type": "code",
   "execution_count": 26,
   "id": "7e3b6da3",
   "metadata": {},
   "outputs": [],
   "source": [
    "stock['365 Day Percentage Change'].fillna(-11.06,inplace=True)"
   ]
  },
  {
   "cell_type": "code",
   "execution_count": 27,
   "id": "9ee70ec0",
   "metadata": {},
   "outputs": [
    {
     "data": {
      "text/plain": [
       "0"
      ]
     },
     "execution_count": 27,
     "metadata": {},
     "output_type": "execute_result"
    }
   ],
   "source": [
    "stock['365 Day Percentage Change'].isnull().sum()"
   ]
  },
  {
   "cell_type": "markdown",
   "id": "54615739",
   "metadata": {},
   "source": [
    "# FILLING NULL VALUES IN \"30 Day Percentage Change\" WITH ITS MEDIAN"
   ]
  },
  {
   "cell_type": "code",
   "execution_count": 28,
   "id": "b5645d34",
   "metadata": {},
   "outputs": [
    {
     "data": {
      "text/plain": [
       "-6.01"
      ]
     },
     "execution_count": 28,
     "metadata": {},
     "output_type": "execute_result"
    }
   ],
   "source": [
    "stock['30 Day Percentage Change'].median()"
   ]
  },
  {
   "cell_type": "code",
   "execution_count": 29,
   "id": "35500120",
   "metadata": {},
   "outputs": [],
   "source": [
    "stock['30 Day Percentage Change'].fillna(-6.01,inplace=True)"
   ]
  },
  {
   "cell_type": "code",
   "execution_count": 30,
   "id": "4bbff904",
   "metadata": {},
   "outputs": [
    {
     "data": {
      "text/plain": [
       "0"
      ]
     },
     "execution_count": 30,
     "metadata": {},
     "output_type": "execute_result"
    }
   ],
   "source": [
    "stock['30 Day Percentage Change'].isnull().sum()"
   ]
  },
  {
   "cell_type": "markdown",
   "id": "81b3bba5",
   "metadata": {},
   "source": [
    "# AGAIN CHECKING THE PERCENTAGE OF NULL VALUES"
   ]
  },
  {
   "cell_type": "code",
   "execution_count": 31,
   "id": "69a41ad8",
   "metadata": {},
   "outputs": [
    {
     "data": {
      "text/plain": [
       "Company Name                 0.0\n",
       "Symbol                       0.0\n",
       "Industry                     0.0\n",
       "Series                       0.0\n",
       "Open                         0.0\n",
       "High                         0.0\n",
       "Low                          0.0\n",
       "Previous Close               0.0\n",
       "Last Traded Price            0.0\n",
       "Change                       0.0\n",
       "Percentage Change            0.0\n",
       "Share Volume                 0.0\n",
       "Value (Indian Rupee)         0.0\n",
       "52 Week High                 0.0\n",
       "52 Week Low                  0.0\n",
       "365 Day Percentage Change    0.0\n",
       "30 Day Percentage Change     0.0\n",
       "dtype: float64"
      ]
     },
     "execution_count": 31,
     "metadata": {},
     "output_type": "execute_result"
    }
   ],
   "source": [
    "stock.isnull().sum()/501*100"
   ]
  },
  {
   "cell_type": "markdown",
   "id": "3e43809c",
   "metadata": {},
   "source": [
    "# THE DATA IS CLEANED AND READY FOR ANALYSIS!\n",
    "# SAVING CLEANED DATASET INTO LOCAL SYSTEM."
   ]
  },
  {
   "cell_type": "code",
   "execution_count": 34,
   "id": "132f68fb",
   "metadata": {},
   "outputs": [],
   "source": [
    "stock.to_excel(r'C:\\Users\\Kirti Bohra\\OneDrive\\Desktop\\Stock Market Analysis\\nifty_500_cleaned.xlsx')"
   ]
  }
 ],
 "metadata": {
  "kernelspec": {
   "display_name": "Python 3 (ipykernel)",
   "language": "python",
   "name": "python3"
  },
  "language_info": {
   "codemirror_mode": {
    "name": "ipython",
    "version": 3
   },
   "file_extension": ".py",
   "mimetype": "text/x-python",
   "name": "python",
   "nbconvert_exporter": "python",
   "pygments_lexer": "ipython3",
   "version": "3.10.4"
  }
 },
 "nbformat": 4,
 "nbformat_minor": 5
}
